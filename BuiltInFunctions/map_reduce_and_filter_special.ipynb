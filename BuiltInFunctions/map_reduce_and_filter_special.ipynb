{
  "cells": [
    {
      "cell_type": "code",
      "source": [
        "# filter - more to less (you can relate it to multiplexer)\n",
        "# reduce - many to one  (you can relate it to multiplexer)\n",
        "# map - one to many ( you can relate it to de-multiplexer)"
      ],
      "metadata": {
        "id": "exPsrkzo4LWR"
      },
      "id": "exPsrkzo4LWR",
      "execution_count": null,
      "outputs": []
    },
    {
      "cell_type": "code",
      "execution_count": 14,
      "id": "7b41e313",
      "metadata": {
        "colab": {
          "base_uri": "https://localhost:8080/"
        },
        "id": "7b41e313",
        "outputId": "1830aee2-a7f6-4012-a176-df08b23c7064"
      },
      "outputs": [
        {
          "output_type": "stream",
          "name": "stdout",
          "text": [
            "<map object at 0x7c6f0dcbd990>\n",
            "[4, 16, 36, 64, 100, 144]\n"
          ]
        }
      ],
      "source": [
        "def newfunc(x):\n",
        "    return x*x\n",
        "\n",
        "print(map(newfunc,[2,4,6,8,10,12]))\n",
        "expr = list(map(newfunc,[2,4,6,8,10,12]))\n",
        "print(expr)"
      ]
    },
    {
      "cell_type": "code",
      "source": [
        "expr = list(map(lambda x: x*x, [2,4,6,8,10,12]))\n",
        "print(expr)"
      ],
      "metadata": {
        "colab": {
          "base_uri": "https://localhost:8080/"
        },
        "id": "6ClX1mHLvQyd",
        "outputId": "7051af10-e494-433c-b4bb-753ffc6ad940"
      },
      "id": "6ClX1mHLvQyd",
      "execution_count": 12,
      "outputs": [
        {
          "output_type": "stream",
          "name": "stdout",
          "text": [
            "[4, 16, 36, 64, 100, 144]\n"
          ]
        }
      ]
    },
    {
      "cell_type": "code",
      "source": [
        "expr = map(lambda x: x*x, [2,4,6,8,10,12])\n",
        "print(expr)"
      ],
      "metadata": {
        "colab": {
          "base_uri": "https://localhost:8080/"
        },
        "id": "loPGh8p6vp7P",
        "outputId": "ce43dac7-6ca6-4275-e41a-5bc19f31e5e9"
      },
      "id": "loPGh8p6vp7P",
      "execution_count": 13,
      "outputs": [
        {
          "output_type": "stream",
          "name": "stdout",
          "text": [
            "<map object at 0x7c6f0dcbc3a0>\n"
          ]
        }
      ]
    },
    {
      "cell_type": "code",
      "source": [
        "myint = input(\"Give an integer : \")\n",
        "print(type(myint))"
      ],
      "metadata": {
        "colab": {
          "base_uri": "https://localhost:8080/"
        },
        "id": "a7g6cYBknZbA",
        "outputId": "6c50983d-d3de-449c-a322-1e1fc9bb2dcc"
      },
      "id": "a7g6cYBknZbA",
      "execution_count": 2,
      "outputs": [
        {
          "output_type": "stream",
          "name": "stdout",
          "text": [
            "Give an integer : 4\n",
            "<class 'str'>\n"
          ]
        }
      ]
    },
    {
      "cell_type": "code",
      "execution_count": null,
      "id": "7d02f11b",
      "metadata": {
        "id": "7d02f11b"
      },
      "outputs": [],
      "source": [
        "expr = list(map(lambda x: x*x, [2,4,6,8,10,12]))\n",
        "print(expr)"
      ]
    },
    {
      "cell_type": "code",
      "execution_count": 3,
      "id": "871d19b9",
      "metadata": {
        "colab": {
          "base_uri": "https://localhost:8080/"
        },
        "id": "871d19b9",
        "outputId": "8092ae53-584e-4dbf-a2a6-8258ba93e3b8"
      },
      "outputs": [
        {
          "output_type": "stream",
          "name": "stdout",
          "text": [
            "23 44 56\n",
            "[23, 44, 56]\n"
          ]
        }
      ],
      "source": [
        "expr = list(map(int,input().strip().split()))\n",
        "print(expr)"
      ]
    },
    {
      "cell_type": "code",
      "source": [
        "expr = list(map(int,input().strip().split(\" \")))\n",
        "print(expr)\n",
        "#strip()- this will remove the leading space not trailing space."
      ],
      "metadata": {
        "colab": {
          "base_uri": "https://localhost:8080/"
        },
        "id": "xmJSEh-So4bk",
        "outputId": "a8c9c123-0161-4f5e-ae08-9c5e6793d912"
      },
      "id": "xmJSEh-So4bk",
      "execution_count": 5,
      "outputs": [
        {
          "output_type": "stream",
          "name": "stdout",
          "text": [
            "     22 33 44 11       \n",
            "[22, 33, 44, 11]\n"
          ]
        }
      ]
    },
    {
      "cell_type": "code",
      "source": [
        "expr = list(map(int,input().strip().split(\"-\")))\n",
        "print(expr)\n",
        "# split()- by default split function split the list using space and if we provide some value then it will override the default one."
      ],
      "metadata": {
        "colab": {
          "base_uri": "https://localhost:8080/"
        },
        "id": "pDdubnUgpTF5",
        "outputId": "51acb252-b697-4210-e51b-0a6b12f3307c"
      },
      "id": "pDdubnUgpTF5",
      "execution_count": 6,
      "outputs": [
        {
          "output_type": "stream",
          "name": "stdout",
          "text": [
            "22-44-66\n",
            "[22, 44, 66]\n"
          ]
        }
      ]
    },
    {
      "cell_type": "code",
      "source": [
        "listdata = list(map(int,input().strip().split()))\n",
        "print(listdata)"
      ],
      "metadata": {
        "colab": {
          "base_uri": "https://localhost:8080/"
        },
        "id": "mtxlax_Mpvis",
        "outputId": "09d8a79b-d2f2-456b-e4ce-6ec93b4ef7e9"
      },
      "id": "mtxlax_Mpvis",
      "execution_count": 7,
      "outputs": [
        {
          "output_type": "stream",
          "name": "stdout",
          "text": [
            "       11 22 33      22              11\n",
            "[11, 22, 33, 22, 11]\n"
          ]
        }
      ]
    },
    {
      "cell_type": "code",
      "source": [
        "myexp = input().strip().split()\n",
        "print(myexp)\n"
      ],
      "metadata": {
        "colab": {
          "base_uri": "https://localhost:8080/"
        },
        "id": "_Q1uJosHrEhr",
        "outputId": "e894affb-ba6f-4890-9380-893fb358cb7f"
      },
      "id": "_Q1uJosHrEhr",
      "execution_count": 9,
      "outputs": [
        {
          "output_type": "stream",
          "name": "stdout",
          "text": [
            "this is interesting topic!\n",
            "['this', 'is', 'interesting', 'topic!']\n"
          ]
        }
      ]
    },
    {
      "cell_type": "code",
      "source": [
        "myexp = \" \".join(input().strip().split())\n",
        "print(myexp)\n"
      ],
      "metadata": {
        "colab": {
          "base_uri": "https://localhost:8080/"
        },
        "id": "vfLP-mnOrhtD",
        "outputId": "c533ea87-1ddc-44bc-ddc2-4f2b6ed20101"
      },
      "id": "vfLP-mnOrhtD",
      "execution_count": 10,
      "outputs": [
        {
          "output_type": "stream",
          "name": "stdout",
          "text": [
            "this is interesting topic!\n",
            "this is interesting topic!\n"
          ]
        }
      ]
    },
    {
      "cell_type": "code",
      "execution_count": 15,
      "id": "d1eb8f1b",
      "metadata": {
        "colab": {
          "base_uri": "https://localhost:8080/"
        },
        "id": "d1eb8f1b",
        "outputId": "7f5db765-5961-49e4-b5b6-27b3da1dd9c6"
      },
      "outputs": [
        {
          "output_type": "stream",
          "name": "stdout",
          "text": [
            "<filter object at 0x7c6f0dcbfbb0>\n",
            "[2, 4, 6, 8, 10, 12, 14, 16, 18, 20, 22, 24, 26, 28, 30, 32, 34, 36, 38, 40, 42, 44, 46, 48, 50]\n"
          ]
        }
      ],
      "source": [
        "def newfunc(x):\n",
        "    return x%2==0\n",
        "\n",
        "print(filter(newfunc,range(1,51)))\n",
        "expr = list(filter(newfunc,range(1,51)))\n",
        "print(expr)"
      ]
    },
    {
      "cell_type": "code",
      "source": [
        "expr =  list(filter(lambda x: x%2==0, range(1,25)))\n",
        "print(expr)"
      ],
      "metadata": {
        "colab": {
          "base_uri": "https://localhost:8080/"
        },
        "id": "GOj_i4Juv-tB",
        "outputId": "0f1fb667-77d8-4d88-9002-7f4e264f78f9"
      },
      "id": "GOj_i4Juv-tB",
      "execution_count": 16,
      "outputs": [
        {
          "output_type": "stream",
          "name": "stdout",
          "text": [
            "[2, 4, 6, 8, 10, 12, 14, 16, 18, 20, 22, 24]\n"
          ]
        }
      ]
    },
    {
      "cell_type": "code",
      "source": [
        "expr =  list(filter(lambda x: x%9==0, range(1,51)))\n",
        "print(expr)"
      ],
      "metadata": {
        "colab": {
          "base_uri": "https://localhost:8080/"
        },
        "id": "WvdhNDnhwPOk",
        "outputId": "0c9e3870-9cce-440d-dbf7-6c781ce3f8d0"
      },
      "id": "WvdhNDnhwPOk",
      "execution_count": 17,
      "outputs": [
        {
          "output_type": "stream",
          "name": "stdout",
          "text": [
            "[9, 18, 27, 36, 45]\n"
          ]
        }
      ]
    },
    {
      "cell_type": "code",
      "source": [
        "expr =  list(filter(lambda x: x%2==1, range(1,51, 2)))\n",
        "print(expr)"
      ],
      "metadata": {
        "colab": {
          "base_uri": "https://localhost:8080/"
        },
        "id": "lR-rYJriwV9e",
        "outputId": "e7474f51-b171-4e04-a1a5-d5feffb43d36"
      },
      "id": "lR-rYJriwV9e",
      "execution_count": 19,
      "outputs": [
        {
          "output_type": "stream",
          "name": "stdout",
          "text": [
            "[1, 3, 5, 7, 9, 11, 13, 15, 17, 19, 21, 23, 25, 27, 29, 31, 33, 35, 37, 39, 41, 43, 45, 47, 49]\n"
          ]
        }
      ]
    },
    {
      "cell_type": "code",
      "source": [
        "expr =  list(filter(lambda x: x%2==1, range(1,51)))\n",
        "print(expr)"
      ],
      "metadata": {
        "colab": {
          "base_uri": "https://localhost:8080/"
        },
        "id": "8cW0oGn9weI9",
        "outputId": "506c29b6-7254-4468-ef02-7bf31e990a3f"
      },
      "id": "8cW0oGn9weI9",
      "execution_count": 20,
      "outputs": [
        {
          "output_type": "stream",
          "name": "stdout",
          "text": [
            "[1, 3, 5, 7, 9, 11, 13, 15, 17, 19, 21, 23, 25, 27, 29, 31, 33, 35, 37, 39, 41, 43, 45, 47, 49]\n"
          ]
        }
      ]
    },
    {
      "cell_type": "code",
      "execution_count": null,
      "id": "c2eccb6e",
      "metadata": {
        "id": "c2eccb6e"
      },
      "outputs": [],
      "source": [
        "def newfunc(x):\n",
        "    return x%2==0\n",
        "\n",
        "print(filter(None,range(1,51)))\n",
        "expr = list(filter(None,range(1,51)))\n",
        "print(expr)"
      ]
    },
    {
      "cell_type": "code",
      "execution_count": null,
      "id": "6fee0e17",
      "metadata": {
        "id": "6fee0e17",
        "outputId": "095d94ad-feb0-48d7-b092-696e92066020"
      },
      "outputs": [
        {
          "name": "stdout",
          "output_type": "stream",
          "text": [
            "[9, 18, 27, 36, 45]\n"
          ]
        }
      ],
      "source": [
        "mult3 = filter(lambda x: x % 9 == 0, range(1,51))\n",
        "print(list(mult3))"
      ]
    },
    {
      "cell_type": "code",
      "execution_count": 21,
      "id": "760a7ed8",
      "metadata": {
        "colab": {
          "base_uri": "https://localhost:8080/"
        },
        "id": "760a7ed8",
        "outputId": "ff41a15c-4aa8-4a17-c438-6e86ebb1cd47"
      },
      "outputs": [
        {
          "output_type": "stream",
          "name": "stdout",
          "text": [
            "[35, '0', True]\n"
          ]
        }
      ],
      "source": [
        "mult3 = filter(None,[35,False,0,\"0\",True])\n",
        "print(list(mult3))"
      ]
    },
    {
      "cell_type": "code",
      "execution_count": 22,
      "id": "1f11f075",
      "metadata": {
        "colab": {
          "base_uri": "https://localhost:8080/"
        },
        "id": "1f11f075",
        "outputId": "5af0f298-30a1-4241-83b1-e6d1a8b5cbf2"
      },
      "outputs": [
        {
          "output_type": "stream",
          "name": "stdout",
          "text": [
            "[1, 2, 3, 4, 5]\n"
          ]
        }
      ],
      "source": [
        "mult3 = filter(None,[1,2,3,4,5])\n",
        "print(list(mult3))"
      ]
    },
    {
      "cell_type": "code",
      "execution_count": null,
      "id": "98c73d5f",
      "metadata": {
        "id": "98c73d5f"
      },
      "outputs": [],
      "source": [
        "import functools\n",
        "newexpr = functools.reduce(lambda x, y: x+y, [5, 2, 3, 4, 5], 10)\n",
        "print(newexpr)"
      ]
    },
    {
      "cell_type": "code",
      "execution_count": 23,
      "id": "f5b75c38",
      "metadata": {
        "colab": {
          "base_uri": "https://localhost:8080/"
        },
        "id": "f5b75c38",
        "outputId": "bb7d9ef4-3b96-4a47-8438-37ceb7b95b11"
      },
      "outputs": [
        {
          "output_type": "stream",
          "name": "stdout",
          "text": [
            "240\n"
          ]
        }
      ],
      "source": [
        "import functools\n",
        "newexpr = functools.reduce(lambda x, y: x*y, [1, 2, 3, 4, 5], 2)\n",
        "# the last value 2 is initial value for x if we will not provide then default would be 1\n",
        "print(newexpr)"
      ]
    },
    {
      "cell_type": "code",
      "source": [
        "import functools\n",
        "showresult = functools.reduce(lambda x, y: x*y, [2,4,6], 2)\n",
        "print(showresult)"
      ],
      "metadata": {
        "colab": {
          "base_uri": "https://localhost:8080/"
        },
        "id": "dQgCJUs-0L2b",
        "outputId": "03d23723-d1b0-4bf3-ffd9-64ee73cee462"
      },
      "id": "dQgCJUs-0L2b",
      "execution_count": 24,
      "outputs": [
        {
          "output_type": "stream",
          "name": "stdout",
          "text": [
            "96\n"
          ]
        }
      ]
    },
    {
      "cell_type": "code",
      "source": [
        "import functools\n",
        "showresult = functools.reduce(lambda x, y: x*y, [2,4,6])\n",
        "print(showresult)"
      ],
      "metadata": {
        "colab": {
          "base_uri": "https://localhost:8080/"
        },
        "id": "atzG8SmR1Xka",
        "outputId": "efcb9949-1b4b-4fce-aff6-382c6399c433"
      },
      "id": "atzG8SmR1Xka",
      "execution_count": 25,
      "outputs": [
        {
          "output_type": "stream",
          "name": "stdout",
          "text": [
            "48\n"
          ]
        }
      ]
    },
    {
      "cell_type": "code",
      "execution_count": null,
      "id": "6340e15b",
      "metadata": {
        "id": "6340e15b"
      },
      "outputs": [],
      "source": [
        "import functools\n",
        "newexpr = functools.reduce(lambda x, y: x+y, [1, 2, 3, 4, 5], 100)\n",
        "print(newexpr)"
      ]
    },
    {
      "cell_type": "code",
      "execution_count": null,
      "id": "b7b7434f",
      "metadata": {
        "id": "b7b7434f"
      },
      "outputs": [],
      "source": [
        "import functools\n",
        "\n",
        "def newfunc(x,y):\n",
        "    return x+y\n",
        "\n",
        "newexpr = functools.reduce(newfunc, [1, 2, 3, 4, 5])\n",
        "print(newexpr)"
      ]
    }
  ],
  "metadata": {
    "kernelspec": {
      "display_name": "Python 3 (ipykernel)",
      "language": "python",
      "name": "python3"
    },
    "language_info": {
      "codemirror_mode": {
        "name": "ipython",
        "version": 3
      },
      "file_extension": ".py",
      "mimetype": "text/x-python",
      "name": "python",
      "nbconvert_exporter": "python",
      "pygments_lexer": "ipython3",
      "version": "3.10.9"
    },
    "colab": {
      "provenance": []
    }
  },
  "nbformat": 4,
  "nbformat_minor": 5
}